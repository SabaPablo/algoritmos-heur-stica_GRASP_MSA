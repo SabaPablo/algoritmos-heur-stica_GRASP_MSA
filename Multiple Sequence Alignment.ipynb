{
 "cells": [
  {
   "cell_type": "code",
   "execution_count": 1,
   "id": "ee825001-960d-40cf-ab39-f52136c5a73c",
   "metadata": {},
   "outputs": [],
   "source": [
    "import numpy as np\n",
    "from enum import Enum\n",
    "from IPython.core.display import HTML,display\n",
    "import pandas as pd\n",
    "import copy\n",
    "import random\n",
    "from collections import deque\n",
    "import matplotlib.pyplot as plt"
   ]
  },
  {
   "cell_type": "markdown",
   "id": "35a374f2-566d-4337-aa52-fd5c3658fdc3",
   "metadata": {
    "tags": []
   },
   "source": [
    "# TP final Heurística GRASP para MSA"
   ]
  },
  {
   "cell_type": "markdown",
   "id": "f8527011-c04c-4d74-8ffb-cd4b433565fa",
   "metadata": {},
   "source": [
    "## Needleman-Wunsch del TP anterior"
   ]
  },
  {
   "cell_type": "code",
   "execution_count": 2,
   "id": "e249f47b-690d-4829-854a-9e9fcf2b42f6",
   "metadata": {},
   "outputs": [],
   "source": [
    "class op(Enum):\n",
    "    MA_MM = 0\n",
    "    GAP_A = 1\n",
    "    GAP_B = 2\n",
    "    EMPTY = 3\n"
   ]
  },
  {
   "cell_type": "code",
   "execution_count": 3,
   "id": "0672ae26-3a63-43fd-a749-b3e57635e2a6",
   "metadata": {},
   "outputs": [
    {
     "data": {
      "text/plain": [
       "array([[ 1., -1., -1., -1.],\n",
       "       [-1.,  1., -1., -1.],\n",
       "       [-1., -1.,  1., -1.],\n",
       "       [-1., -1., -1.,  1.]])"
      ]
     },
     "execution_count": 3,
     "metadata": {},
     "output_type": "execute_result"
    }
   ],
   "source": [
    "score_mtx = np.full((4,4),-1) + np.identity(4) *2\n",
    "score_mtx"
   ]
  },
  {
   "cell_type": "code",
   "execution_count": 4,
   "id": "4988cb46-ec14-41bc-aee5-b5b275745785",
   "metadata": {},
   "outputs": [],
   "source": [
    "nucleotides= \"ACGT-\""
   ]
  },
  {
   "cell_type": "markdown",
   "id": "e3cbe568-52ef-49fa-809e-c524837bb951",
   "metadata": {},
   "source": [
    "### TRACEBACK"
   ]
  },
  {
   "cell_type": "code",
   "execution_count": 5,
   "id": "0e628b92-b023-4a6b-9777-ef3afa7ffc3a",
   "metadata": {},
   "outputs": [],
   "source": [
    "\n",
    "def traceback(solution_table, seqA, seqB):\n",
    "    seqA_align = \"\"\n",
    "    seqB_align = \"\"\n",
    "    i = len(seqA)\n",
    "    j = len(seqB)\n",
    "    while i > 0 or j > 0:\n",
    "        if solution_table[i, j] == op.GAP_A:\n",
    "            seqA_align = \"-\" + seqA_align\n",
    "            seqB_align = seqB[j-1] + seqB_align\n",
    "            j -= 1\n",
    "        elif solution_table[i, j] == op.GAP_B:\n",
    "            seqA_align = seqA[i-1] + seqA_align\n",
    "            seqB_align = \"-\" + seqB_align\n",
    "            i -= 1\n",
    "        else: # es decir, match / mismatch\n",
    "            i -= 1\n",
    "            j -= 1\n",
    "            seqA_align = seqA[i] + seqA_align\n",
    "            seqB_align = seqB[j] + seqB_align\n",
    "    return seqA_align, seqB_align\n",
    "\n"
   ]
  },
  {
   "cell_type": "markdown",
   "id": "a879d7d7-81b4-4a25-9a1b-0aa60beeb2ea",
   "metadata": {},
   "source": [
    "### Needleman-Wunsch"
   ]
  },
  {
   "cell_type": "code",
   "execution_count": 6,
   "id": "724b7d68-722b-4e95-b788-2de3498cbb60",
   "metadata": {},
   "outputs": [],
   "source": [
    "def nw(seqA_str, seqB_str, score_mtx, gap_score = 0):\n",
    "    dim_A = len(seqA_str)\n",
    "    dim_B = len(seqB_str)\n",
    "    \n",
    "    table = get_init_value_table(dim_A,dim_B,gap_score)\n",
    "    memorization_table = get_init_memo_table(dim_A,dim_B)\n",
    "    for i in range(1,dim_A+1):\n",
    "        for j in range(1,dim_B+1):\n",
    "            nucleotid_A = nucleotides.index(seqA_str[i-1])\n",
    "            nucleotid_B =nucleotides.index(seqB_str[j-1])\n",
    "            \n",
    "            match_or_mismatch_value = table[i-1][j-1] + score_mtx[nucleotid_A][nucleotid_B]\n",
    "\n",
    "            gap_A_value = table[i][j-1] + gap_score\n",
    "            gap_B_value = table[i-1][j] + gap_score\n",
    "            values = [match_or_mismatch_value, gap_A_value, gap_B_value]\n",
    "            index_min = max(range(len(values)), key=values.__getitem__)\n",
    "            table[i][j] = values[index_min]\n",
    "                        \n",
    "            memorization_table[i][j] = op(index_min)                     \n",
    "            \n",
    "    aln_a, aln_b = traceback(memorization_table,seqA_str, seqB_str)\n",
    "    return aln_a, aln_b, table[dim_A, dim_B]\n",
    "\n",
    "\n",
    " \n",
    "    \n",
    "\n",
    "def get_init_value_table(x,y,gap_score):\n",
    "    table = np.zeros((x+1, y+1))\n",
    "    for i in range(0,y+1):\n",
    "        table[0,i] = gap_score * i\n",
    "    for j in range(0,x+1): \n",
    "        table[j,0] = gap_score * j\n",
    "    return table\n",
    "\n"
   ]
  },
  {
   "cell_type": "markdown",
   "id": "10337799-dff1-4e04-90c0-e736d06925d0",
   "metadata": {},
   "source": [
    "-------"
   ]
  },
  {
   "cell_type": "markdown",
   "id": "2ba06e57-69db-47a3-bc37-9d0a2eb3b282",
   "metadata": {},
   "source": [
    "# Profile"
   ]
  },
  {
   "cell_type": "markdown",
   "id": "595417c0-7854-4003-a3ac-aab676c075bf",
   "metadata": {},
   "source": [
    "La clase Profile contendra:\n",
    "- El conteo de los nucleotidos de las secuencias alineadas\n",
    "- Una lista con todas las alineaciones al momento\n",
    "- La cantidad de alineaciones alojadas en profile\n",
    "- El tamaño de las secuencias alojadas\n",
    "- Un parser sobre nucleotidos."
   ]
  },
  {
   "cell_type": "code",
   "execution_count": 7,
   "id": "6e1de42e-de54-48e6-b7ff-1e10178227bf",
   "metadata": {},
   "outputs": [],
   "source": [
    "class Profile:\n",
    "\n",
    "    def __init__(self):\n",
    "        self.counter = [[],[],[],[],[]]\n",
    "        self.sequences = []\n",
    "        self.size_sequences= 0\n",
    "        self.seq_numbers = 0\n",
    "        self.score_history = 0\n",
    "        self.parser= {\"A\":0,\"C\":1,\"G\":2,\"T\":3,\"-\":4}\n",
    "\n",
    "    def add_sequence(self, sequence, score):\n",
    "        if self.size_sequences < len(sequence):\n",
    "            for a in range(0,5):\n",
    "                self.counter[a] = self.counter[a] + ([0] * (len(sequence)-self.size_sequences))\n",
    "            self.size_sequences= len(sequence)\n",
    "        self.seq_numbers += 1\n",
    "        self.score_history = score\n",
    "        self.sequences.append(sequence)\n",
    "        for idx, val in enumerate(sequence):\n",
    "            self.counter[self.parser[val]][idx] += 1\n",
    "    \n",
    "    def add_gap_counter(self, position):\n",
    "        for idx, seq in enumerate(self.sequences):\n",
    "            self.sequences[idx] = self.insert_gap(seq,position)\n",
    "        for a in range(0,4):\n",
    "            self.counter[a].insert(position,0)\n",
    "        self.counter[4].insert(position, self.seq_numbers)\n",
    "        self.size_sequences += 1\n",
    "    \n",
    "    def insert_gap(self, a_string, position):\n",
    "        return a_string[:position] + \"-\" + a_string[position:]\n",
    "    \n",
    "    def get_count_position(self,position):\n",
    "        count = []\n",
    "        for a in range(0,5):\n",
    "            count.append( self.counter[a][position] / self.seq_numbers)\n",
    "        return tuple(count)\n",
    "        #return self.counter[0,position], self.counter[1,position], self.counter[2,position], self.counter[3,position]\n",
    "        \n",
    "    def print_seq(self):\n",
    "        print(np.array(self.sequences).reshape(self.seq_numbers,1))\n",
    "        display(headers_table(np.array(self.counter),\"ACGT-\",range(1,self.size_sequences+1)))\n",
    "            \n",
    "def headers_table(table, header,col_header):\n",
    "    row_labels = [label for label in header]\n",
    "    column_labels = [label for label in col_header]\n",
    "    df = pd.DataFrame(table,index=row_labels,columns=column_labels)\n",
    "    table_html = df.to_html()\n",
    "    return HTML(table_html)"
   ]
  },
  {
   "cell_type": "markdown",
   "id": "aabaa7ee-8342-47b8-a24e-d7f44559e1f3",
   "metadata": {},
   "source": [
    "### Needleman-Wunsch MSA"
   ]
  },
  {
   "cell_type": "code",
   "execution_count": 8,
   "id": "45aa7f2d-fe2a-443f-ba63-38b1733683b8",
   "metadata": {},
   "outputs": [],
   "source": [
    "def nw_msa(seq_str, profile, score_mtx, gap_score = 0):\n",
    "    dim_seq = len(seq_str)\n",
    "    dim_profile = profile.size_sequences\n",
    "    \n",
    "    table = get_init_value_table(dim_seq,dim_profile,gap_score)\n",
    "    memorization_table = get_init_memo_table(dim_seq,dim_profile)\n",
    "    for i in range(1,dim_seq+1):\n",
    "        for j in range(1,dim_profile+1):\n",
    "            nucleotide = nucleotide_index(seq_str[i-1])\n",
    "            \n",
    "            a, c, g, t, gap = profile.get_count_position(j-1)\n",
    "            score_position = a * score_mtx[nucleotide][nucleotide_index(\"A\")] + c * score_mtx[nucleotide][nucleotide_index(\"C\")]+ g * score_mtx[nucleotide][nucleotide_index(\"G\")]+ t * score_mtx[nucleotide][nucleotide_index(\"T\")]\n",
    "            gap_porcent_value = 1 - (a+c+g+t)\n",
    "            match_or_mismatch_value = table[i-1][j-1] + score_position\n",
    "            \n",
    "            gap_profile_value = table[i][j-1] + gap_score\n",
    "                                             \n",
    "            gap_seq_value = table[i-1][j] + (gap_score * gap_porcent_value)\n",
    "            values = [match_or_mismatch_value, gap_profile_value, gap_seq_value]\n",
    "            index_min = max(range(len(values)), key=values.__getitem__)\n",
    "            table[i][j] = values[index_min]\n",
    "                        \n",
    "            memorization_table[i][j] = op(index_min)\n",
    "    aln_seq, gaps_profile = traceback_msa(memorization_table,seq_str, profile)\n",
    "    return aln_seq, gaps_profile, table[dim_seq, dim_profile]\n",
    "\n",
    "def get_init_memo_table(dim_A,dim_B):\n",
    "    table = np.full((dim_A+1,dim_B+1),op.EMPTY)\n",
    "    for i in range(1,dim_B+1):\n",
    "        table[0][i] = op.GAP_A\n",
    "    for j in range(1,dim_A+1):\n",
    "        table[j][0] = op.GAP_B\n",
    "    return table\n",
    "\n",
    "def nucleotide_index(nucleotide):\n",
    "    return nucleotides.index(nucleotide)"
   ]
  },
  {
   "cell_type": "markdown",
   "id": "3fd81875-9f81-4091-a4c5-e73947291216",
   "metadata": {},
   "source": [
    "### traceback msa"
   ]
  },
  {
   "cell_type": "code",
   "execution_count": 9,
   "id": "79670444-3558-4b82-a77b-5aa8e97e2049",
   "metadata": {},
   "outputs": [],
   "source": [
    "\n",
    "def traceback_msa(solution_table, seq, profile):\n",
    "    seq_align = \"\"\n",
    "    gaps_profile = []\n",
    "    i = len(seq)\n",
    "    j = profile.size_sequences\n",
    "    while i > 0 or j > 0:\n",
    "        if solution_table[i, j] == op.GAP_A:\n",
    " \n",
    "            seq_align = \"-\" + seq_align\n",
    "            j -= 1\n",
    "        elif solution_table[i, j] == op.GAP_B:\n",
    "            seq_align = seq[i-1] + seq_align\n",
    "            gaps_profile.append(i-1)\n",
    "            i -= 1\n",
    "        else: # es decir, match / mismatch\n",
    "            i -= 1\n",
    "            j -= 1\n",
    "            seq_align = seq[i] + seq_align\n",
    "    return seq_align, gaps_profile"
   ]
  },
  {
   "cell_type": "markdown",
   "id": "cc1cdf23-901a-4cf7-8e2e-cfc6ee712774",
   "metadata": {},
   "source": [
    "### Carga de datos\n",
    "La función ***get_fasta_sequences*** nos va a permitir a partir del nombre de un archivo, de tipo fasta, buscarlo en la raiz del proyecto y parsearlo para obtener una lista de secuencias"
   ]
  },
  {
   "cell_type": "code",
   "execution_count": 10,
   "id": "32f5f157-6188-452a-a323-20d6eece8a3e",
   "metadata": {},
   "outputs": [],
   "source": [
    "def get_fasta_sequences(file):\n",
    "    seqs = []\n",
    "    with open(file) as fp:\n",
    "        for name, seq in read_fasta(fp):\n",
    "            seqs.append(seq)\n",
    "    return seqs\n",
    "\n",
    "def read_fasta(fp):\n",
    "        name, seq = None, []\n",
    "        for line in fp:\n",
    "            line = line.rstrip()\n",
    "            if line.startswith(\">\"):\n",
    "                if name: yield (name, ''.join(seq))\n",
    "                name, seq = line, []\n",
    "            else:\n",
    "                seq.append(line)\n",
    "        if name: yield (name, ''.join(seq))"
   ]
  },
  {
   "cell_type": "markdown",
   "id": "2c467699-42c4-408d-a8c7-749af64799e5",
   "metadata": {},
   "source": [
    "## Orden de alineamiento de secuencias\n",
    "\n",
    "Nos dedicaremos a dar un orden adecuado a nuestras secuencias, lo que nos permitira aumentar el scoring.\n",
    "Para lograr ello tenemos que iniciar alineando todas las secuencias entre si. Recorriendo y procesando una matriz.\n",
    "\n",
    "![](extras/matrix_1.png)\n",
    "\n",
    "En nuestro caso completamos una lista carga de forma ordenada las secuencias, y descarta las que quedan fuera de esa lista, indicandonos el score obtenido por alinear 2 secuencias y tambien un par indicando el indice de las mismas"
   ]
  },
  {
   "cell_type": "code",
   "execution_count": 11,
   "id": "f0b6da52-b8e7-4749-8820-f63572924250",
   "metadata": {},
   "outputs": [],
   "source": [
    "def nw_secuences(sequences, score_mtx, gap_penalty, len_result = 4):\n",
    "    cant_seq = len(sequences)\n",
    "    matrix_align = np.full((cant_seq,cant_seq),None)\n",
    "    max_values = [(-np.Inf,(-1,-1)) for x in range(0, len_result)]\n",
    "    for i in range(0,cant_seq):\n",
    "        for j in range(i+1,cant_seq):\n",
    "            align_1,align_2,score = nw(sequences[i],sequences[j],score_mtx, gap_penalty)\n",
    "            matrix_align[i][j] = (align_1,align_2)\n",
    "            x = 0\n",
    "            while x < len_result and max_values[x][0] > score :\n",
    "                x+=1\n",
    "            if x < len_result :\n",
    "                max_values.insert(x,(score,(i,j)))\n",
    "                max_values.pop()\n",
    "                \n",
    "    return max_values, matrix_align"
   ]
  },
  {
   "cell_type": "markdown",
   "id": "780ea24f-7846-4d90-a104-7f800536fb86",
   "metadata": {},
   "source": [
    "Algo similar sucede cuando queremos encontrar un orden optimo en el resto de las secuencias, a diferencia, el resto de las secuencias van a alinearse con un unico profile\n",
    "\n",
    "![](extras/matrix_2.png)\n",
    "\n",
    "Esta lista que obtenemos obtiene los scoring de recorrer un profile y alguna de las secuencias restantes. tambien indica que secuencia es la que corresponde al scoring de dicho alineamiento"
   ]
  },
  {
   "cell_type": "code",
   "execution_count": 12,
   "id": "c1856a42-1104-49ed-942e-f875ae8db94e",
   "metadata": {},
   "outputs": [],
   "source": [
    "def nw_msa_secuences(sequences, profile, sequences_availables, score_mtx, gap_penalty, len_result = 3):\n",
    "    cant_seq = len(sequences)\n",
    "    max_values = [(-np.Inf,-1) for x in range(0, len_result)]\n",
    "    for i in sequences_availables:\n",
    "        _, _, score = nw_msa(sequences[i], profile, score_mtx, gap_penalty)\n",
    "        x = 0\n",
    "        while x < len_result and max_values[x][0] > score:\n",
    "            x+=1\n",
    "        if x < len_result:\n",
    "            max_values.insert(x,(score,i))\n",
    "            max_values.pop()\n",
    "                \n",
    "    return max_values"
   ]
  },
  {
   "cell_type": "markdown",
   "id": "d6645bd3-1ab0-44e2-bba4-105319d620d8",
   "metadata": {},
   "source": [
    "## Soluciones ordenadas aleatorias\n",
    "\n",
    "Es momento de armar Soluciones a partir de un ordenamiento de secuencias, diferentes ordenes nos devuelve soluciones iniciales diferentes, por eso es necesario agregar un grado de aleatoriedad a nuestro algoritmo con un criterio para que nos lleve a soluciones aceptables."
   ]
  },
  {
   "cell_type": "code",
   "execution_count": 13,
   "id": "9a0ec86e-ccac-4a8c-817d-f91fc62ab6ff",
   "metadata": {},
   "outputs": [],
   "source": [
    "def align(sequences, score_mtx, gap_penalty):\n",
    "    \n",
    "    order_sequences = []\n",
    "    sequence_numbers = list(range(0,len(sequences)))\n",
    "    p_align = Profile()\n",
    "    \n",
    "    sequences_observer_size = len(sequences)//2+1\n",
    "    \n",
    "    list_score_nw, mtx_align = nw_secuences(sequences, score_mtx, gap_penalty, sequences_observer_size)\n",
    "    sequences_index_random = random.randrange(0, sequences_observer_size)\n",
    "    score , (position_a, position_b) = list_score_nw[sequences_index_random]\n",
    "    \n",
    "    align1, align2 = mtx_align[position_a][position_b]\n",
    "    p_align.add_sequence(align1,score) \n",
    "    p_align.add_sequence(align2,score)\n",
    "    \n",
    "    sequence_numbers.remove(position_b)\n",
    "    sequence_numbers.remove(position_a)\n",
    "    order_sequences.append(position_b)\n",
    "    order_sequences.append(position_a)\n",
    "    \n",
    "    align_with_profile(p_align ,sequences,order_sequences, sequence_numbers, score_mtx, gap_penalty)\n",
    "    \n",
    "    return p_align, order_sequences"
   ]
  },
  {
   "cell_type": "code",
   "execution_count": 14,
   "id": "ab849e07-94da-406d-8b46-a96a2bcb4453",
   "metadata": {},
   "outputs": [],
   "source": [
    "def align_with_profile(profile_align ,sequences,order_sequences, pending_sequences, score_mtx, gap_penalty):\n",
    "    \n",
    "    pending_observe_sequences_size = len(pending_sequences)//2+1\n",
    "    \n",
    "    nw_msa_list = nw_msa_secuences(sequences, profile_align, pending_sequences, score_mtx, gap_penalty, pending_observe_sequences_size)\n",
    "    \n",
    "    sequences_index_random = random.randrange(0, pending_observe_sequences_size)\n",
    "    _ , ramdom_sequence_number  = nw_msa_list[sequences_index_random]\n",
    "    \n",
    "    order_sequences.append(ramdom_sequence_number)\n",
    "    pending_sequences.remove(ramdom_sequence_number)\n",
    "    \n",
    "    seq_align, gaps_profile, score_align = nw_msa(sequences[ramdom_sequence_number], profile_align, score_mtx, gap_penalty)\n",
    "    for position_gap in gaps_profile:\n",
    "        profile_align.add_gap_counter(position_gap)\n",
    "    profile_align.add_sequence(seq_align,score_align)\n",
    "    \n",
    "    if pending_sequences:\n",
    "         align_with_profile(profile_align ,sequences,order_sequences, pending_sequences, score_mtx, gap_penalty)\n",
    "    "
   ]
  },
  {
   "cell_type": "markdown",
   "id": "dfaa8726-f0ac-4b1f-85a6-839de94148fb",
   "metadata": {},
   "source": [
    "la función ***align*** crea alineaciones en ordenes bajo un criterio pero con un grado de aleatoriedad, nos devuelve un profile con todos los alineamientos y un orden con el cual fue cargado dicho profile"
   ]
  },
  {
   "cell_type": "markdown",
   "id": "2f0f9d60-c583-4009-af72-52c1e4abdacb",
   "metadata": {},
   "source": [
    "Al tener nuestras secuencias ordenadas de una forma especifica y tener ese orden.. vamos a buscar en sus resultados vecinos si obtenemos un mejor score."
   ]
  },
  {
   "cell_type": "markdown",
   "id": "a7be9397-3973-4c13-a753-2d2183fea23b",
   "metadata": {},
   "source": [
    "### La maquina de soluciones\n",
    "\n",
    "la funcion ***nw_GRASP*** genera todas las soluciones que le pidamos. Esas soluciones incluyen los score, los ordenes y los profiles. "
   ]
  },
  {
   "cell_type": "code",
   "execution_count": 15,
   "id": "bef1babf-7e9f-404b-8c47-603b8c942648",
   "metadata": {},
   "outputs": [],
   "source": [
    "def nw_GRASP(solutions, sequences, score_mtx, gap_penalty):\n",
    "    scores = []\n",
    "    orders = []\n",
    "    profiles = []\n",
    "    for i in range(0,solutions):\n",
    "        profile, order_sequences = align(sequences, score_mtx, gap_penalty)\n",
    "        scores.append(profile.score_history)\n",
    "        orders.append(order_sequences)\n",
    "        profiles.append(profile)\n",
    "        print('Solution', i, 'score:', profile.score_history, 'order_added:',order_sequences)\n",
    "    return scores,orders, profiles"
   ]
  },
  {
   "cell_type": "markdown",
   "id": "4e2d454f-96f0-4599-a6f8-d6b7db9e6dd7",
   "metadata": {},
   "source": [
    "## Multiple Sequence Alignment"
   ]
  },
  {
   "cell_type": "markdown",
   "id": "f2fd0693-dcf6-4305-be82-6ad240294918",
   "metadata": {},
   "source": [
    "'msa' es nuestra función raiz, a partir de un documento fasta vamos a obtener un alineamiento de varias secuencias con un scoring aceptable a un tiempo razonable"
   ]
  },
  {
   "cell_type": "code",
   "execution_count": 16,
   "id": "68ad31ed-a62d-429a-a089-1b2a3ce6fbfe",
   "metadata": {},
   "outputs": [],
   "source": [
    "def msa(fasta_file, score_mtx, gap_penalty, n_solutions = 3, local_iterations=250):\n",
    "    #Parser fasta file\n",
    "    sequences = get_fasta_sequences(fasta_file)\n",
    "\n",
    "    orders, scores, profiles = nw_GRASP(n_solutions, sequences, score_mtx, gap_penalty)\n",
    "    res = []\n",
    "    for profile in profiles:\n",
    "        res.append(maximium_local(profile.sequences, profile.seq_numbers, profile.score_history, score_mtx, gap_penalty, local_iterations))\n",
    "    best_score = -np.Inf\n",
    "    bad_score = np.Inf\n",
    "    best_align = []\n",
    "    for aligns,h_s in res:\n",
    "        if best_score < h_s[-1]:\n",
    "            best_score = h_s[-1]\n",
    "            best_align = aligns\n",
    "        if bad_score > h_s[0]:\n",
    "            bad_score = h_s[0]\n",
    "    #Create Output with alignment\n",
    "    data = \"\"\n",
    "    for idx, align in enumerate(best_align):\n",
    "        data += \"seq\"+str(idx) +\"\\n\"+ align +\"\\n\" \n",
    "    f = open(\"output.txt\", \"w\")\n",
    "    f.write(data)\n",
    "    f.close()\n",
    "    return res, best_score, bad_score, best_align"
   ]
  },
  {
   "cell_type": "markdown",
   "id": "e4d303e6-7ce6-4a8a-b1a9-ff1dbb0202ca",
   "metadata": {},
   "source": [
    "### Maximo Local\n",
    "\n",
    "La función maximium_local nos permite una correccion de nuestra solución generando pequeños cambios aleatorios sobre algún alineamiento realizado. Genera cambios que permiten obtener un mejor scoring."
   ]
  },
  {
   "cell_type": "code",
   "execution_count": 17,
   "id": "ca9e48b7-6260-40f7-93a8-2c49332b9061",
   "metadata": {},
   "outputs": [],
   "source": [
    "def maximium_local(sequences,cant_sequences, score, score_mtx, gap_penalty,local_iterations):\n",
    "    history = [score]\n",
    "    i=0\n",
    "    while i < local_iterations :\n",
    "        i+=1\n",
    "        score = correction_with_neightboard(sequences, score, cant_sequences, score_mtx, gap_penalty)\n",
    "        history.append(score)\n",
    "    return sequences, history"
   ]
  },
  {
   "cell_type": "markdown",
   "id": "059eac27-a206-4e33-a118-404dd1fdc37c",
   "metadata": {},
   "source": [
    "#### Descubriendo el vecindario"
   ]
  },
  {
   "cell_type": "markdown",
   "id": "f77a9112-d062-4f15-be22-060b9f2fa9dd",
   "metadata": {},
   "source": [
    "Para lograr la busqueda local debemos encontrar vecinos en un alineamiento, para eso tenemos la función ***neighboard_of*** que apartir de un alineamiento busca modificaciones en la secuencia que no generen mutaciones. Obteniendo como resultado distintas soluciones para un unico alineamiento."
   ]
  },
  {
   "cell_type": "code",
   "execution_count": 18,
   "id": "1bdc8e79-a26a-48ae-bc86-e30ac4a79584",
   "metadata": {},
   "outputs": [],
   "source": [
    "def neighboard_of(alig):\n",
    "    neighboard = []\n",
    "    n_neighboards = 0\n",
    "    for i in range(0,len(alig)-1):\n",
    "        if (alig[i]!= '-' and alig[i+1] == '-' ) or (alig[i+1]!= '-' and  alig[i] == '-' ):\n",
    "            a = alig[:i] + alig[i+1] + alig[i] + alig[i+2:]\n",
    "            neighboard.append((a, (i,i+1)))\n",
    "            n_neighboards+=1\n",
    "    return neighboard, n_neighboards"
   ]
  },
  {
   "cell_type": "markdown",
   "id": "09821d3f-c344-4d48-b170-4faa1101146c",
   "metadata": {},
   "source": [
    "se puede destacar de la función ***neighboard_of*** que el resultado es la secuencia modificada y un par que indica las columnas que se vieron involucradas para lograr una segunda solución"
   ]
  },
  {
   "cell_type": "code",
   "execution_count": 19,
   "id": "f64cf707-31da-4219-bb87-a9276a2a08fc",
   "metadata": {},
   "outputs": [],
   "source": [
    "def correction_with_neightboard(sequences, score, cant_sequences, score_mtx, gap_penalty):\n",
    "        \n",
    "    sequence_random = random.randrange(0, cant_sequences)\n",
    "    \n",
    "    align = sequences[sequence_random]\n",
    "    score_correction = 0\n",
    "    neighboards, cant = neighboard_of(align)\n",
    "    index_neighboards= list(range(0, cant))\n",
    "    \n",
    "    while index_neighboards and  score_correction ==0:\n",
    "        random_value = random.choice(index_neighboards)\n",
    "        index_neighboards.remove(random_value)\n",
    "        neighboard_random, (column_a,column_b) = neighboards[random_value]\n",
    "        \n",
    "        prev_score = score_column(sequences,column_a,cant_sequences, score_mtx, gap_penalty) + score_column(sequences,column_b,cant_sequences, score_mtx, gap_penalty)\n",
    "\n",
    "        sequences[sequence_random] = neighboard_random\n",
    "\n",
    "        pos_score = score_column(sequences,column_a, cant_sequences, score_mtx, gap_penalty) + score_column(sequences,column_b, cant_sequences, score_mtx, gap_penalty)\n",
    "        \n",
    "        score_correction = pos_score - prev_score\n",
    "        if score_correction <= 0:\n",
    "            sequences[sequence_random] = align\n",
    "            score_correction = 0\n",
    "    return score + score_correction\n",
    "\n",
    "\n",
    "def score_column(sequences, column, cant_sequences, score_mtx, gap_penalty):\n",
    "    score = 0\n",
    "    for i in range(0, cant_sequences):\n",
    "        elem = sequences[i][column]\n",
    "        for j in range(i+1, cant_sequences):\n",
    "            elem2 = sequences[j][column]\n",
    "            score += nucleotides_value(elem,elem2,score_mtx, gap_penalty)\n",
    "    return score\n",
    "\n",
    "\n",
    "def nucleotides_value(elem,elem2,score_mtx, gap_penalty):\n",
    "    index_a = nucleotides.index(elem)\n",
    "    index_b = nucleotides.index(elem2)\n",
    "    if index_a == 4 and index_b == 4:\n",
    "        return 0\n",
    "    elif index_a == 4 or index_b == 4:\n",
    "        return gap_penalty\n",
    "    else:\n",
    "        return score_mtx[index_a][index_b]"
   ]
  },
  {
   "cell_type": "markdown",
   "id": "70aaad4b-5240-4f6a-aaf3-71f6cca7d851",
   "metadata": {},
   "source": [
    "# PRUEBAS"
   ]
  },
  {
   "cell_type": "code",
   "execution_count": 20,
   "id": "118c660f-5b7f-47f6-abdc-acbd3255fc02",
   "metadata": {},
   "outputs": [],
   "source": [
    "def print_graf_scoring(res, best_score, bad_score):\n",
    "\n",
    "    fig, ax = plt.subplots()  # Create a figure and an axes.\n",
    "\n",
    "    for n, i in enumerate(res):\n",
    "        plt.plot(range(1,len(i[1])+1), i[1], label='s'+str(n))\n",
    "    ax.set_xlabel('Iterations')  # Add an x-label to the axes.\n",
    "    ax.set_ylabel('Score')  # Add a y-label to the axes.\n",
    "    ax.set_title(\"scoring Vs # de iterations.\")  # Add a title to the axes.\n",
    "    ax.legend()\n",
    "    plt.axis([0, len(res[0][1]), bad_score*1.05 ,best_score*1.05])\n",
    "    plt.show()"
   ]
  },
  {
   "cell_type": "code",
   "execution_count": 21,
   "id": "d0dd0f04-bb6a-482c-b302-a953f28dbf9c",
   "metadata": {},
   "outputs": [
    {
     "name": "stdout",
     "output_type": "stream",
     "text": [
      "Solution 0 score: 60.00000000000002 order_added: [2, 1, 3, 0]\n",
      "Solution 1 score: -21.833333333333332 order_added: [3, 0, 2, 1]\n",
      "Solution 2 score: -3.6666666666666647 order_added: [2, 1, 0, 3]\n",
      "Solution 3 score: 45.66666666666669 order_added: [3, 2, 1, 0]\n",
      "Solution 4 score: 45.66666666666669 order_added: [3, 2, 1, 0]\n"
     ]
    }
   ],
   "source": [
    "res, best_score, bad_score, best_align = msa('10.fas', score_mtx, -0.5,5)"
   ]
  },
  {
   "cell_type": "code",
   "execution_count": 22,
   "id": "bfda00bd-2ea4-4483-9bf4-af4308c7b66d",
   "metadata": {},
   "outputs": [
    {
     "name": "stdout",
     "output_type": "stream",
     "text": [
      "best_score: 261.6666666666667\n"
     ]
    }
   ],
   "source": [
    "print('best_score:',best_score)"
   ]
  },
  {
   "cell_type": "code",
   "execution_count": 23,
   "id": "c3c19d15-1b19-4dc6-a5b8-81104e63cf19",
   "metadata": {},
   "outputs": [
    {
     "data": {
      "image/png": "[encoded data removed]",
      "text/plain": [
       "<Figure size 432x288 with 1 Axes>"
      ]
     },
     "metadata": {
      "needs_background": "light"
     },
     "output_type": "display_data"
    }
   ],
   "source": [
    "print_graf_scoring(res, best_score, bad_score)"
   ]
  },
  {
   "cell_type": "markdown",
   "id": "89066b03-435b-47b6-8871-f434687cf3be",
   "metadata": {},
   "source": [
    "### Prueba 2"
   ]
  },
  {
   "cell_type": "code",
   "execution_count": 24,
   "id": "cbd95eec-66f2-4de6-b98f-372713846c67",
   "metadata": {},
   "outputs": [
    {
     "name": "stdout",
     "output_type": "stream",
     "text": [
      "Solution 0 score: 174.35714285714238 order_added: [6, 4, 3, 0, 7, 5, 1, 2]\n",
      "Solution 1 score: 175.57142857142816 order_added: [6, 5, 7, 3, 1, 0, 4, 2]\n",
      "Solution 2 score: 205.49999999999957 order_added: [6, 4, 5, 7, 3, 1, 2, 0]\n",
      "Solution 3 score: 205.49999999999963 order_added: [6, 4, 7, 3, 5, 1, 2, 0]\n",
      "Solution 4 score: 104.99999999999991 order_added: [1, 0, 2, 3, 6, 5, 4, 7]\n",
      "Solution 5 score: 205.49999999999963 order_added: [6, 4, 7, 3, 5, 1, 2, 0]\n",
      "Solution 6 score: 310.00000000000045 order_added: [1, 0, 4, 5, 6, 7, 2, 3]\n",
      "Solution 7 score: 289.64285714285757 order_added: [6, 5, 0, 3, 1, 4, 2, 7]\n"
     ]
    }
   ],
   "source": [
    "res, best_score, bad_score, best_align = msa('hemog.fasta', score_mtx, -0.5,8,1500)"
   ]
  },
  {
   "cell_type": "code",
   "execution_count": 25,
   "id": "abcdadd6-6984-4a73-a871-7774e29f5205",
   "metadata": {},
   "outputs": [
    {
     "name": "stdout",
     "output_type": "stream",
     "text": [
      "best_score: 2367.0\n"
     ]
    }
   ],
   "source": [
    "print('best_score:',best_score)"
   ]
  },
  {
   "cell_type": "code",
   "execution_count": 26,
   "id": "165a7133-d7da-4573-a8b7-452a4ac94663",
   "metadata": {},
   "outputs": [
    {
     "data": {
      "image/png": "[encoded data removed]",
      "text/plain": [
       "<Figure size 432x288 with 1 Axes>"
      ]
     },
     "metadata": {
      "needs_background": "light"
     },
     "output_type": "display_data"
    }
   ],
   "source": [
    "print_graf_scoring(res, best_score, bad_score)"
   ]
  }
 ],
 "metadata": {
  "kernelspec": {
   "display_name": "Python 3 (ipykernel)",
   "language": "python",
   "name": "python3"
  },
  "language_info": {
   "codemirror_mode": {
    "name": "ipython",
    "version": 3
   },
   "file_extension": ".py",
   "mimetype": "text/x-python",
   "name": "python",
   "nbconvert_exporter": "python",
   "pygments_lexer": "ipython3",
   "version": "3.8.2"
  }
 },
 "nbformat": 4,
 "nbformat_minor": 5
}
