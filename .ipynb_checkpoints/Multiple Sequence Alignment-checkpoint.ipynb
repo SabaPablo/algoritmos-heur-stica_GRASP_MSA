{
 "cells": [
  {
   "cell_type": "markdown",
   "id": "3eb72859-ef8a-408e-85f0-5e2ecc93cc45",
   "metadata": {},
   "source": [
    "### _Nothing in Biology Makes Sense Except in the Light of Evolution_ \n",
    "###### Theodosius  Dobzhansky"
   ]
  },
  {
   "cell_type": "markdown",
   "id": "f5943cc5-283a-4c65-ab9b-da1c1d6e7a3e",
   "metadata": {},
   "source": [
    "# TP-1: alineamiento global con Needleman Wunsch"
   ]
  },
  {
   "cell_type": "markdown",
   "id": "bc428e08-5485-4cda-aa10-93aed3d23bb9",
   "metadata": {},
   "source": [
    "Escriba una implementación en Python del algoritmo de alineamiento global de Needleman-Wunsch, \n",
    "dentro de las 4 celdas indicadas más abajo."
   ]
  },
  {
   "cell_type": "markdown",
   "id": "46609fd4-21b1-4aa4-8943-c80bc8682402",
   "metadata": {},
   "source": [
    "El alineamiento entre las 2 secuencias de `ab.fasta` debe tener un score de 158 y\n",
    "el alineamiento entre las 2 secuencias de `ae.fasta` debe tener un score de 312."
   ]
  },
  {
   "cell_type": "markdown",
   "id": "4f7caba8-d6b8-4974-b5d9-4a423080f812",
   "metadata": {},
   "source": [
    "--------"
   ]
  },
  {
   "cell_type": "code",
   "execution_count": 1,
   "id": "ee825001-960d-40cf-ab39-f52136c5a73c",
   "metadata": {},
   "outputs": [],
   "source": [
    "import numpy as np\n",
    "from Bio import pairwise2, SeqIO\n",
    "from enum import Enum"
   ]
  },
  {
   "cell_type": "markdown",
   "id": "362cc50b-bbe1-478d-b3ff-38a0dae84688",
   "metadata": {},
   "source": [
    "## Needleman-Wunsch con BioPython"
   ]
  },
  {
   "cell_type": "code",
   "execution_count": 2,
   "id": "6906623c-e52b-4282-a8af-55b219f0a465",
   "metadata": {},
   "outputs": [
    {
     "data": {
      "text/plain": [
       "2.0"
      ]
     },
     "execution_count": 2,
     "metadata": {},
     "output_type": "execute_result"
    }
   ],
   "source": [
    "aln = pairwise2.align.globalxx(\"TATA\", \"TCT\")\n",
    "aln[0].score"
   ]
  },
  {
   "cell_type": "code",
   "execution_count": 3,
   "id": "beda6e12-3193-4475-b975-1f8375980bdb",
   "metadata": {},
   "outputs": [
    {
     "name": "stdout",
     "output_type": "stream",
     "text": [
      "TA-TA\n",
      "T-CT-\n"
     ]
    }
   ],
   "source": [
    "print(aln[0].seqA)\n",
    "print(aln[0].seqB)"
   ]
  },
  {
   "cell_type": "code",
   "execution_count": 4,
   "id": "b5aa3bd4-b5c6-4fda-a72a-94e8474ffd82",
   "metadata": {},
   "outputs": [
    {
     "data": {
      "text/plain": [
       "158.0"
      ]
     },
     "execution_count": 4,
     "metadata": {},
     "output_type": "execute_result"
    }
   ],
   "source": [
    "f_aln = SeqIO.parse(\"ab.fasta\", 'fasta')\n",
    "fas_A = next(f_aln)\n",
    "fas_B = next(f_aln)\n",
    "\n",
    "seq_A = str(fas_A.seq)\n",
    "seq_B = str(fas_B.seq)\n",
    "\n",
    "aln = pairwise2.align.globalxx(seq_A, seq_B)\n",
    "aln[0].score"
   ]
  },
  {
   "cell_type": "code",
   "execution_count": 5,
   "id": "2e9e4267-d5c7-421a-ae15-f5d2887bcd06",
   "metadata": {},
   "outputs": [
    {
     "name": "stdout",
     "output_type": "stream",
     "text": [
      "CGTCA-AAGATCTC-CAA-CCCGGGGACAGAGT-ACTGGCCGCGGATT-ACGACGGAA--ACCCGGTTTATACCGACTTCATCATGTTCAA-\n",
      "C-TC-CAA-AT-T-ACAATCCC---GAC--A-TTA-T-----C---TTTA--A-GG-ATGA---GG-----A--GA----A-CA----C--G\n"
     ]
    }
   ],
   "source": [
    "print(aln[0].seqA[300:])\n",
    "print(aln[0].seqB[300:])"
   ]
  },
  {
   "cell_type": "code",
   "execution_count": 6,
   "id": "d896571d-b600-4dde-9f80-e3d0992cfc13",
   "metadata": {},
   "outputs": [
    {
     "data": {
      "text/plain": [
       "312.0"
      ]
     },
     "execution_count": 6,
     "metadata": {},
     "output_type": "execute_result"
    }
   ],
   "source": [
    "f_aln = SeqIO.parse(\"ae.fasta\", 'fasta')\n",
    "fas_A = next(f_aln)\n",
    "fas_E = next(f_aln)\n",
    "\n",
    "seq_A = str(fas_A.seq)\n",
    "seq_E = str(fas_E.seq)\n",
    "\n",
    "aln = pairwise2.align.globalxx(seq_A, seq_E)\n",
    "aln[0].score"
   ]
  },
  {
   "cell_type": "code",
   "execution_count": 7,
   "id": "683ecea2-c211-4d24-b1f2-4d0af042f1b7",
   "metadata": {},
   "outputs": [
    {
     "name": "stdout",
     "output_type": "stream",
     "text": [
      "GGCCCG-TCAAAGATC-TCCAACCCGGG-GACAGAG-TAC-TGGCC-GCG-GATT-ACGA-CGGAAACCCGG-TTTAT-ACCGACTTCATCATGTTCAA\n",
      "GG--CGGTCAAAGA-CCTCCAACCC-GGCGACAG-GGT-CCTGG-CAGC-AGA-TGA-GAACGGAAACCC-GATTTA-CACCGAC-TC--C---TT---\n"
     ]
    }
   ],
   "source": [
    "print(aln[0].seqA[300:])\n",
    "print(aln[0].seqB[300:])"
   ]
  },
  {
   "cell_type": "markdown",
   "id": "4d828ab7-9fcf-4da1-93b6-ff9ebb2d4a90",
   "metadata": {},
   "source": [
    "------"
   ]
  },
  {
   "cell_type": "markdown",
   "id": "f8527011-c04c-4d74-8ffb-cd4b433565fa",
   "metadata": {},
   "source": [
    "## Needleman-Wunsch propio"
   ]
  },
  {
   "cell_type": "markdown",
   "id": "aa5c8e35-f268-4763-aedb-4cdb8052feec",
   "metadata": {},
   "source": [
    "#### Cosas q pueden ser útiles"
   ]
  },
  {
   "cell_type": "raw",
   "id": "e8bfe1e5-99c5-4bf6-a848-1d49a6c79dd7",
   "metadata": {},
   "source": [
    "# una forma de memoizar las operaciones.\n",
    "class op(Enum):\n",
    "    GAP_A = 1\n",
    "    GAP_B = 2\n",
    "    MA_MM = 3\n",
    "\n",
    "# tabla de numpy p/ hacer memoización\n",
    "tabla = np.repeat(0.0, (n) * (m)).reshape(n, m)\n",
    "\n",
    "# constructs\n",
    "for while, if\n",
    "\n",
    "# operaciones con listas y strings\n",
    "list.append(), list.pop(), list.reverse(), len(list)\n",
    "\n",
    "# te da una lista a partir de un array\n",
    "list(str) \n",
    "\n",
    "# te da un string a partir de una lista\n",
    "str().join(list) "
   ]
  },
  {
   "cell_type": "markdown",
   "id": "453d206e-93c2-426c-8ad8-355ac9bc150e",
   "metadata": {},
   "source": [
    "### 1\n",
    "`op` es un type que representa las 3 operaciones posibles en un alineamiento."
   ]
  },
  {
   "cell_type": "code",
   "execution_count": 8,
   "id": "e249f47b-690d-4829-854a-9e9fcf2b42f6",
   "metadata": {},
   "outputs": [],
   "source": [
    "class op(Enum):\n",
    "    GAP_A = 1\n",
    "    GAP_B = 2\n",
    "    MA_MM = 3"
   ]
  },
  {
   "cell_type": "code",
   "execution_count": 9,
   "id": "fdbe4f81-028d-4bca-9c61-4cd4b8ee8de3",
   "metadata": {},
   "outputs": [],
   "source": [
    "class score_match_miss_match():\n",
    "    \n",
    "    def __init__(self):\n",
    "        self.matrix = np.matrix([[1 , 0 , 0 , 0], \n",
    "                                 [0 , 1 , 0 , 0], \n",
    "                                 [0 , 0 , 1 , 0], \n",
    "                                 [0 , 0 , 0 , 1]])\n",
    "    \n",
    "    def parse_nucleotide(self, nucleotide):\n",
    "        if nucleotide == 'A':\n",
    "            return 0\n",
    "        if nucleotide == 'T':\n",
    "            return 1\n",
    "        if nucleotide == 'G':\n",
    "            return 2\n",
    "        if nucleotide == 'C':\n",
    "            return 3\n",
    "    \n",
    "    def get_score(self, nucleotide_A, nucleotide_B):\n",
    "        code_n_a = self.parse_nucleotide(nucleotide_A)\n",
    "        code_n_b = self.parse_nucleotide(nucleotide_B)\n",
    "        return self.matrix[code_n_a,code_n_b]\n",
    "    \n",
    "\n",
    "\n",
    "\n"
   ]
  },
  {
   "cell_type": "code",
   "execution_count": 10,
   "id": "cb9c619b-bb13-402c-b6db-16bfc6194b91",
   "metadata": {},
   "outputs": [
    {
     "data": {
      "text/plain": [
       "0"
      ]
     },
     "execution_count": 10,
     "metadata": {},
     "output_type": "execute_result"
    }
   ],
   "source": [
    "matrix = score_match_miss_match()\n",
    "matrix.get_score('A', 'C')"
   ]
  },
  {
   "cell_type": "markdown",
   "id": "da617a26-c3a3-4985-ad51-a3ddd8bd3d7c",
   "metadata": {},
   "source": [
    "### 2\n",
    "`score_mtx` contiene los scores de match y mismatch entre las distintas bases.\n",
    "Para reproducir el comportamiento de la función`pairwise2.align.globalxx()` de biopython\n",
    "asignaremos, por ahora, un score de `1` a cualquier match y `0` a cualquier otro match.\n",
    "\n",
    "El gap score irá por fuera de `score_mtx` y será, circunstancialmente, de `0`.\n",
    "\n",
    "`score_mtx` puede ser una lista de listas, `numpy.darray`, diccionario, o lo que crea conveniente."
   ]
  },
  {
   "cell_type": "code",
   "execution_count": 11,
   "id": "0672ae26-3a63-43fd-a749-b3e57635e2a6",
   "metadata": {},
   "outputs": [
    {
     "data": {
      "text/plain": [
       "array([[ 1, -1, -1, -1],\n",
       "       [-1,  1, -1, -1],\n",
       "       [-1, -1,  1, -1],\n",
       "       [-1, -1, -1,  1]])"
      ]
     },
     "execution_count": 11,
     "metadata": {},
     "output_type": "execute_result"
    }
   ],
   "source": [
    "score_mtx = np.repeat(-1, (4) * (4)).reshape(4, 4)\n",
    "for i in range(0,4):\n",
    "    score_mtx[i][i]=1\n",
    "score_mtx"
   ]
  },
  {
   "cell_type": "markdown",
   "id": "e3cbe568-52ef-49fa-809e-c524837bb951",
   "metadata": {},
   "source": [
    "### 3\n",
    "`traceback()` toma la tabla donde `nw()` memoizó los subproblemas (`tabla_sol`),\n",
    "las 2 secuencias originales (`seqA` y `seqB`) y entrega las 2 secuencias modificadas (`aln_a` y `aln_b`),\n",
    "que puestas una arriba de la otra, mostrarían un alineamiento correcto."
   ]
  },
  {
   "cell_type": "code",
   "execution_count": 12,
   "id": "0e628b92-b023-4a6b-9777-ef3afa7ffc3a",
   "metadata": {},
   "outputs": [],
   "source": [
    "def traceback(matrix_score, seqA, seqB):    \n",
    "    n, m = camino_mas_corto(matrix_score, 0,0)\n",
    "    m.reverse()\n",
    "    return align(seqA, seqB,m,0, 0, 0)\n",
    "    \n",
    "def align(seqA, seqB, operation_list, idx_operations,x,y):\n",
    "    w = len(seqA)\n",
    "    z = len(seqB)\n",
    "    if (x == w and z == y):\n",
    "        return '', ''\n",
    "    if x == w:\n",
    "        return '', seqB[y:]\n",
    "    if y == z:\n",
    "        return seqA[x:], ''\n",
    "    i = operation_list[idx_operations]\n",
    "    \n",
    "    if i == 'Match':\n",
    "        aln_a_res, aln_b_res= align(seqA,seqB,operation_list,idx_operations+1,x+1,y+1)\n",
    "        return seqA[x] + aln_a_res, seqB[y] + aln_b_res\n",
    "    if i == 'gap_A':\n",
    "        aln_a_res, aln_b_res= align(seqA,seqB,operation_list,idx_operations+1,x,y+1)\n",
    "        return '-' + aln_a_res, seqB[y]  + aln_b_res\n",
    "    if i == 'gap_B':\n",
    "        aln_a_res, aln_b_res= align(seqA,seqB,operation_list,idx_operations+1,x+1,y)\n",
    "        return seqA[x]  + aln_a_res, '-' + aln_b_res\n",
    "            \n",
    "# No performante.... revisarlo\n",
    "def camino_mas_corto(matrix_score, x, y):\n",
    "    # Caso base\n",
    "    m, n = matrix_score.shape\n",
    "    if(x == m and y == n):\n",
    "        return 0, []\n",
    "    if(x == m-1):\n",
    "        return n-y-1, [ 'gap_A' for x in range(n-1-y)]\n",
    "    if(y == n-1):\n",
    "        return m-x-1,[ 'gap_B' for x in range(m-1-x)]\n",
    "    #Camino gaps\n",
    "    if matrix_score[x][y] == matrix_score[x+1][y+1]:\n",
    "        mi, cam   = camino_mas_corto(matrix_score,x+1,y)\n",
    "        mi2, cam2 = camino_mas_corto(matrix_score,x,y+1)\n",
    "        if mi < mi2:\n",
    "            return mi+1, cam + ['gap_A']\n",
    "        return mi2+1, cam2 + ['gap_B']\n",
    "    #Camino match o missmatch\n",
    "    mchta, camchta = camino_mas_corto(matrix_score,x+1,y+1)\n",
    "    return mchta + 1, camchta + ['Match']\n"
   ]
  },
  {
   "cell_type": "code",
   "execution_count": 13,
   "id": "94431bdc-0d76-4093-898a-f4097b601c8a",
   "metadata": {},
   "outputs": [
    {
     "data": {
      "text/plain": [
       "['gap', 'gap', 'gap', 'gap']"
      ]
     },
     "execution_count": 13,
     "metadata": {},
     "output_type": "execute_result"
    }
   ],
   "source": [
    "[ 'gap' for x in range(4)]"
   ]
  },
  {
   "cell_type": "markdown",
   "id": "a879d7d7-81b4-4a25-9a1b-0aa60beeb2ea",
   "metadata": {},
   "source": [
    "### 4\n",
    "`nw()` implementa el algoritmo de needleman-wunsch. Toma las 2 secuencias en formato de `str` (`seqA_str` y `seqB_str`),\n",
    "para igualar el comportamiento de `pairwise2.align.globalxx()`, la `score_mtx` y un `gap_score`.\n",
    "Debe llamar a `traceback()` para luego devolver las 2 secuencias alineadas y el score del alineamiento (último elemento de `tabla_score`)"
   ]
  },
  {
   "cell_type": "code",
   "execution_count": 14,
   "id": "724b7d68-722b-4e95-b788-2de3498cbb60",
   "metadata": {},
   "outputs": [],
   "source": [
    "def nw(seqA_str, seqB_str, score_mtx, gap_score = 0):\n",
    "    l_seqA = len(seqA_str)\n",
    "    l_seqB = len(seqB_str)\n",
    "    m = l_seqA + 1\n",
    "    n = l_seqB + 1\n",
    "    matrix_score =  np.repeat(0, m * n).reshape(m, n)\n",
    "\n",
    "\n",
    "    for i in range(1,m):\n",
    "        for j in range(1,n):\n",
    "            if seqA_str[i-1] == seqB_str[j-1]:\n",
    "                matrix_score[i][j] = matrix_score[i-1][j-1] + score_mtx.get_score(seqA_str[i-1], seqB_str[j-1])\n",
    "            else:\n",
    "                matrix_score[i][j] = max(matrix_score[i][j-1] + gap_score,          # Gap_B\n",
    "                                       matrix_score[i-1][j] + gap_score ,            # Gap_A\n",
    "                                       matrix_score[i-1][j-1] + score_mtx.get_score(seqA_str[i-1], seqB_str[j-1]))      # MissMatch\n",
    "    print(matrix_score)\n",
    "    als = traceback(matrix_score, seqA_str, seqB_str)\n",
    "    return als[0],als[1], matrix_score[m-1][n-1]\n"
   ]
  },
  {
   "cell_type": "code",
   "execution_count": 15,
   "id": "c61bc10c-b8d5-4d16-adc1-ef556e87f105",
   "metadata": {},
   "outputs": [
    {
     "name": "stdout",
     "output_type": "stream",
     "text": [
      "[[0 0 0 0]\n",
      " [0 1 1 1]\n",
      " [0 1 1 1]\n",
      " [0 1 1 2]\n",
      " [0 1 1 2]]\n"
     ]
    },
    {
     "data": {
      "text/plain": [
       "('TA-TA', 'T-CT', 2)"
      ]
     },
     "execution_count": 15,
     "metadata": {},
     "output_type": "execute_result"
    }
   ],
   "source": [
    "nw('TATA', \"TCT\", score_match_miss_match(),0)"
   ]
  },
  {
   "cell_type": "markdown",
   "id": "10337799-dff1-4e04-90c0-e736d06925d0",
   "metadata": {},
   "source": [
    "-------"
   ]
  },
  {
   "cell_type": "markdown",
   "id": "cea85562-e460-4498-8d55-8c5115c0d7ce",
   "metadata": {},
   "source": [
    "## Pruebe su implementación"
   ]
  },
  {
   "cell_type": "code",
   "execution_count": 16,
   "id": "9b36b8e0-6311-4dc5-a486-cda49011369f",
   "metadata": {},
   "outputs": [],
   "source": [
    "# Toma de input\n",
    "f_aln = SeqIO.parse(\"ab.fasta\", 'fasta')\n",
    "fas_A = next(f_aln)\n",
    "fas_B = next(f_aln)\n",
    "\n",
    "seq_A = str(fas_A.seq)\n",
    "seq_B = str(fas_B.seq)"
   ]
  },
  {
   "cell_type": "code",
   "execution_count": 17,
   "id": "a07868bf-bb0a-4295-ad51-de06eb1123e7",
   "metadata": {},
   "outputs": [],
   "source": [
    "score_mtx_1 = score_match_miss_match()"
   ]
  },
  {
   "cell_type": "code",
   "execution_count": null,
   "id": "a066a1b6-58e3-400e-8962-6b6bd51c8b95",
   "metadata": {},
   "outputs": [
    {
     "name": "stdout",
     "output_type": "stream",
     "text": [
      "[[  0   0   0 ...   0   0   0]\n",
      " [  0   0   0 ...   1   1   1]\n",
      " [  0   1   1 ...   2   2   2]\n",
      " ...\n",
      " [  0   1   2 ... 157 158 158]\n",
      " [  0   1   2 ... 157 158 158]\n",
      " [  0   1   2 ... 157 158 158]]\n"
     ]
    }
   ],
   "source": [
    "# Confirme el score\n",
    "aln_a, aln_b, score = nw(seq_A, seq_B, score_mtx_1)\n",
    "score"
   ]
  },
  {
   "cell_type": "code",
   "execution_count": null,
   "id": "eb02b1ff-ba0b-4c24-b541-5416a824be18",
   "metadata": {},
   "outputs": [],
   "source": [
    "# Visualice el alineamiento. Recuerde que no es necesario que sea idéntico al de Biopython\n",
    "str_aln_a = str().join(aln_a)\n",
    "str_aln_b = str().join(aln_b)\n",
    "\n",
    "print(str_aln_a[300:])\n",
    "print(str_aln_b[300:])"
   ]
  },
  {
   "cell_type": "code",
   "execution_count": null,
   "id": "6b8959ef-3a74-409e-9bae-071398837a84",
   "metadata": {},
   "outputs": [],
   "source": [
    "# Toma de input\n",
    "f_aln = SeqIO.parse(\"ae.fasta\", 'fasta')\n",
    "fas_A = next(f_aln)\n",
    "fas_E = next(f_aln)\n",
    "\n",
    "seq_A = str(fas_A.seq)\n",
    "seq_E = str(fas_E.seq)"
   ]
  },
  {
   "cell_type": "code",
   "execution_count": null,
   "id": "6211c8f9-9dbc-442f-ae0e-bc4f34207f67",
   "metadata": {},
   "outputs": [],
   "source": [
    "# Confirme el score\n",
    "aln_a, aln_e, score = nw(seq_A, seq_E, score_mtx_1)\n",
    "score"
   ]
  },
  {
   "cell_type": "code",
   "execution_count": null,
   "id": "51aab4d0-f21c-41e8-83d2-fba14a1a5f8b",
   "metadata": {},
   "outputs": [],
   "source": [
    "# Visualice el alineamiento. Recuerde que no es necesario que sea idéntico al de Biopython\n",
    "str_aln_a = str().join(aln_a)\n",
    "str_aln_e = str().join(aln_e)\n",
    "\n",
    "print(str_aln_a[300:])\n",
    "print(str_aln_e[300:])"
   ]
  }
 ],
 "metadata": {
  "kernelspec": {
   "display_name": "Python 3",
   "language": "python",
   "name": "python3"
  },
  "language_info": {
   "codemirror_mode": {
    "name": "ipython",
    "version": 3
   },
   "file_extension": ".py",
   "mimetype": "text/x-python",
   "name": "python",
   "nbconvert_exporter": "python",
   "pygments_lexer": "ipython3",
   "version": "3.8.8"
  }
 },
 "nbformat": 4,
 "nbformat_minor": 5
}
